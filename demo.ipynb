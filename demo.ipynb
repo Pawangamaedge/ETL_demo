{
 "cells": [
  {
   "cell_type": "code",
   "execution_count": 14,
   "metadata": {},
   "outputs": [],
   "source": [
    "import pandas as pd"
   ]
  },
  {
   "cell_type": "code",
   "execution_count": 15,
   "metadata": {},
   "outputs": [
    {
     "data": {
      "text/html": [
       "<div>\n",
       "<style scoped>\n",
       "    .dataframe tbody tr th:only-of-type {\n",
       "        vertical-align: middle;\n",
       "    }\n",
       "\n",
       "    .dataframe tbody tr th {\n",
       "        vertical-align: top;\n",
       "    }\n",
       "\n",
       "    .dataframe thead th {\n",
       "        text-align: right;\n",
       "    }\n",
       "</style>\n",
       "<table border=\"1\" class=\"dataframe\">\n",
       "  <thead>\n",
       "    <tr style=\"text-align: right;\">\n",
       "      <th></th>\n",
       "      <th>customer_id</th>\n",
       "      <th>first_name</th>\n",
       "      <th>last_name</th>\n",
       "      <th>email</th>\n",
       "      <th>age</th>\n",
       "      <th>signup_date</th>\n",
       "    </tr>\n",
       "  </thead>\n",
       "  <tbody>\n",
       "    <tr>\n",
       "      <th>0</th>\n",
       "      <td>1</td>\n",
       "      <td>John</td>\n",
       "      <td>Doe</td>\n",
       "      <td>john.doe@example.com</td>\n",
       "      <td>28</td>\n",
       "      <td>2020-06-15</td>\n",
       "    </tr>\n",
       "    <tr>\n",
       "      <th>1</th>\n",
       "      <td>2</td>\n",
       "      <td>Jane</td>\n",
       "      <td>Smith</td>\n",
       "      <td>jane.smith@example.com</td>\n",
       "      <td>34</td>\n",
       "      <td>2021-01-22</td>\n",
       "    </tr>\n",
       "    <tr>\n",
       "      <th>2</th>\n",
       "      <td>3</td>\n",
       "      <td>Mary</td>\n",
       "      <td>Johnson</td>\n",
       "      <td>mary.johnson@example.com</td>\n",
       "      <td>45</td>\n",
       "      <td>2022-03-18</td>\n",
       "    </tr>\n",
       "    <tr>\n",
       "      <th>3</th>\n",
       "      <td>4</td>\n",
       "      <td>James</td>\n",
       "      <td>White</td>\n",
       "      <td>james.white@example.com</td>\n",
       "      <td>52</td>\n",
       "      <td>2019-11-12</td>\n",
       "    </tr>\n",
       "    <tr>\n",
       "      <th>4</th>\n",
       "      <td>5</td>\n",
       "      <td>Emily</td>\n",
       "      <td>Brown</td>\n",
       "      <td>emily.brown@example.com</td>\n",
       "      <td>22</td>\n",
       "      <td>2023-02-03</td>\n",
       "    </tr>\n",
       "  </tbody>\n",
       "</table>\n",
       "</div>"
      ],
      "text/plain": [
       "   customer_id first_name last_name                     email  age signup_date\n",
       "0            1       John       Doe      john.doe@example.com   28  2020-06-15\n",
       "1            2       Jane     Smith    jane.smith@example.com   34  2021-01-22\n",
       "2            3       Mary   Johnson  mary.johnson@example.com   45  2022-03-18\n",
       "3            4      James     White   james.white@example.com   52  2019-11-12\n",
       "4            5      Emily     Brown   emily.brown@example.com   22  2023-02-03"
      ]
     },
     "execution_count": 15,
     "metadata": {},
     "output_type": "execute_result"
    }
   ],
   "source": [
    "# loading the dataset \n",
    "\n",
    "df = pd.read_csv(\"customers.csv\")\n",
    "df.head()"
   ]
  },
  {
   "cell_type": "code",
   "execution_count": 31,
   "metadata": {},
   "outputs": [
    {
     "data": {
      "text/plain": [
       "(20, 6)"
      ]
     },
     "execution_count": 31,
     "metadata": {},
     "output_type": "execute_result"
    }
   ],
   "source": [
    "df.shape"
   ]
  },
  {
   "cell_type": "code",
   "execution_count": 32,
   "metadata": {},
   "outputs": [
    {
     "data": {
      "text/plain": [
       "customer_id    0\n",
       "first_name     0\n",
       "last_name      0\n",
       "email          0\n",
       "age            0\n",
       "signup_date    0\n",
       "dtype: int64"
      ]
     },
     "execution_count": 32,
     "metadata": {},
     "output_type": "execute_result"
    }
   ],
   "source": [
    "#checking for the null values\n",
    "\n",
    "df.isna().sum()"
   ]
  },
  {
   "cell_type": "code",
   "execution_count": 33,
   "metadata": {},
   "outputs": [],
   "source": [
    "#finding the duplicates from the dataset\n",
    "\n",
    "df = df.drop_duplicates()\n"
   ]
  },
  {
   "cell_type": "code",
   "execution_count": 34,
   "metadata": {},
   "outputs": [
    {
     "data": {
      "text/plain": [
       "(5, 6)"
      ]
     },
     "execution_count": 34,
     "metadata": {},
     "output_type": "execute_result"
    }
   ],
   "source": [
    "df.head().shape"
   ]
  },
  {
   "cell_type": "code",
   "execution_count": 35,
   "metadata": {},
   "outputs": [
    {
     "data": {
      "text/plain": [
       "customer_id    0\n",
       "first_name     0\n",
       "last_name      0\n",
       "email          0\n",
       "age            0\n",
       "signup_date    0\n",
       "dtype: int64"
      ]
     },
     "execution_count": 35,
     "metadata": {},
     "output_type": "execute_result"
    }
   ],
   "source": [
    "df.isna().sum()"
   ]
  },
  {
   "cell_type": "code",
   "execution_count": 36,
   "metadata": {},
   "outputs": [
    {
     "name": "stdout",
     "output_type": "stream",
     "text": [
      "<class 'pandas.core.series.Series'>\n",
      "RangeIndex: 20 entries, 0 to 19\n",
      "Series name: signup_date\n",
      "Non-Null Count  Dtype \n",
      "--------------  ----- \n",
      "20 non-null     object\n",
      "dtypes: object(1)\n",
      "memory usage: 288.0+ bytes\n"
     ]
    }
   ],
   "source": [
    "df['signup_date'].info()"
   ]
  },
  {
   "cell_type": "code",
   "execution_count": 37,
   "metadata": {},
   "outputs": [
    {
     "data": {
      "text/plain": [
       "<bound method Series.info of 0     2020-06-15\n",
       "1     2021-01-22\n",
       "2     2022-03-18\n",
       "3     2019-11-12\n",
       "4     2023-02-03\n",
       "5     2022-07-29\n",
       "6     2021-09-12\n",
       "7     2020-05-10\n",
       "8     2021-11-21\n",
       "9     2019-08-30\n",
       "10    2020-02-15\n",
       "11    2021-08-06\n",
       "12    2022-09-25\n",
       "13    2021-10-19\n",
       "14    2023-01-11\n",
       "15    2020-12-02\n",
       "16    2021-07-03\n",
       "17    2022-05-19\n",
       "18    2023-03-15\n",
       "19    2021-12-14\n",
       "Name: signup_date, dtype: object>"
      ]
     },
     "execution_count": 37,
     "metadata": {},
     "output_type": "execute_result"
    }
   ],
   "source": [
    "df['signup_date'].info"
   ]
  },
  {
   "cell_type": "code",
   "execution_count": 38,
   "metadata": {},
   "outputs": [
    {
     "name": "stdout",
     "output_type": "stream",
     "text": [
      "<class 'pandas.core.frame.DataFrame'>\n",
      "RangeIndex: 20 entries, 0 to 19\n",
      "Data columns (total 6 columns):\n",
      " #   Column       Non-Null Count  Dtype \n",
      "---  ------       --------------  ----- \n",
      " 0   customer_id  20 non-null     int64 \n",
      " 1   first_name   20 non-null     object\n",
      " 2   last_name    20 non-null     object\n",
      " 3   email        20 non-null     object\n",
      " 4   age          20 non-null     int64 \n",
      " 5   signup_date  20 non-null     object\n",
      "dtypes: int64(2), object(4)\n",
      "memory usage: 1.1+ KB\n"
     ]
    }
   ],
   "source": [
    "df.info()"
   ]
  },
  {
   "cell_type": "markdown",
   "metadata": {},
   "source": [
    "## some data transformations"
   ]
  },
  {
   "cell_type": "code",
   "execution_count": 39,
   "metadata": {},
   "outputs": [],
   "source": [
    "df['signup_date'] = pd.to_datetime(df['signup_date'], format='%Y-%m-%d')"
   ]
  },
  {
   "cell_type": "code",
   "execution_count": 40,
   "metadata": {},
   "outputs": [
    {
     "data": {
      "text/plain": [
       "0    2020-06-15\n",
       "1    2021-01-22\n",
       "2    2022-03-18\n",
       "3    2019-11-12\n",
       "4    2023-02-03\n",
       "5    2022-07-29\n",
       "6    2021-09-12\n",
       "7    2020-05-10\n",
       "8    2021-11-21\n",
       "9    2019-08-30\n",
       "10   2020-02-15\n",
       "11   2021-08-06\n",
       "12   2022-09-25\n",
       "13   2021-10-19\n",
       "14   2023-01-11\n",
       "15   2020-12-02\n",
       "16   2021-07-03\n",
       "17   2022-05-19\n",
       "18   2023-03-15\n",
       "19   2021-12-14\n",
       "Name: signup_date, dtype: datetime64[ns]"
      ]
     },
     "execution_count": 40,
     "metadata": {},
     "output_type": "execute_result"
    }
   ],
   "source": [
    "df['signup_date']"
   ]
  },
  {
   "cell_type": "code",
   "execution_count": 41,
   "metadata": {},
   "outputs": [
    {
     "data": {
      "text/plain": [
       "(20, 6)"
      ]
     },
     "execution_count": 41,
     "metadata": {},
     "output_type": "execute_result"
    }
   ],
   "source": [
    "df.shape"
   ]
  },
  {
   "cell_type": "code",
   "execution_count": 42,
   "metadata": {},
   "outputs": [],
   "source": [
    "df['email_domain'] = df['email'].apply(lambda x: x.split('@')[1])"
   ]
  },
  {
   "cell_type": "code",
   "execution_count": 43,
   "metadata": {},
   "outputs": [
    {
     "data": {
      "text/plain": [
       "Index(['customer_id', 'first_name', 'last_name', 'email', 'age', 'signup_date',\n",
       "       'email_domain'],\n",
       "      dtype='object')"
      ]
     },
     "execution_count": 43,
     "metadata": {},
     "output_type": "execute_result"
    }
   ],
   "source": [
    "df.columns"
   ]
  },
  {
   "cell_type": "code",
   "execution_count": 44,
   "metadata": {},
   "outputs": [
    {
     "data": {
      "text/plain": [
       "(20, 7)"
      ]
     },
     "execution_count": 44,
     "metadata": {},
     "output_type": "execute_result"
    }
   ],
   "source": [
    "df.shape"
   ]
  },
  {
   "cell_type": "code",
   "execution_count": 45,
   "metadata": {},
   "outputs": [
    {
     "data": {
      "text/plain": [
       "0     example.com\n",
       "1     example.com\n",
       "2     example.com\n",
       "3     example.com\n",
       "4     example.com\n",
       "5     example.com\n",
       "6     example.com\n",
       "7     example.com\n",
       "8     example.com\n",
       "9     example.com\n",
       "10    example.com\n",
       "11    example.com\n",
       "12    example.com\n",
       "13    example.com\n",
       "14    example.com\n",
       "15    example.com\n",
       "16    example.com\n",
       "17    example.com\n",
       "18    example.com\n",
       "19    example.com\n",
       "Name: email_domain, dtype: object"
      ]
     },
     "execution_count": 45,
     "metadata": {},
     "output_type": "execute_result"
    }
   ],
   "source": [
    "df['email_domain']"
   ]
  },
  {
   "cell_type": "code",
   "execution_count": 46,
   "metadata": {},
   "outputs": [],
   "source": [
    "df['email_name'] = df['email'].apply(lambda x: x.split('@')[0])"
   ]
  },
  {
   "cell_type": "code",
   "execution_count": 47,
   "metadata": {},
   "outputs": [
    {
     "data": {
      "text/plain": [
       "0            john.doe\n",
       "1          jane.smith\n",
       "2        mary.johnson\n",
       "3         james.white\n",
       "4         emily.brown\n",
       "5       michael.clark\n",
       "6         susan.davis\n",
       "7      david.martinez\n",
       "8        linda.garcia\n",
       "9        robert.lopez\n",
       "10        alice.adams\n",
       "11          bob.baker\n",
       "12    charlie.chapman\n",
       "13      diana.edwards\n",
       "14         eve.foster\n",
       "15     frank.gonzalez\n",
       "16       grace.harris\n",
       "17      hannah.ingram\n",
       "18      irene.jackson\n",
       "19          jack.king\n",
       "Name: email_name, dtype: object"
      ]
     },
     "execution_count": 47,
     "metadata": {},
     "output_type": "execute_result"
    }
   ],
   "source": [
    "df['email_name']"
   ]
  },
  {
   "cell_type": "code",
   "execution_count": 48,
   "metadata": {},
   "outputs": [],
   "source": [
    "df['full_name'] = df['first_name'] + \" \" + df['last_name']"
   ]
  },
  {
   "cell_type": "code",
   "execution_count": 49,
   "metadata": {},
   "outputs": [
    {
     "data": {
      "text/plain": [
       "(20, 9)"
      ]
     },
     "execution_count": 49,
     "metadata": {},
     "output_type": "execute_result"
    }
   ],
   "source": [
    "df.shape"
   ]
  },
  {
   "cell_type": "code",
   "execution_count": 50,
   "metadata": {},
   "outputs": [
    {
     "data": {
      "text/plain": [
       "0            John Doe\n",
       "1          Jane Smith\n",
       "2        Mary Johnson\n",
       "3         James White\n",
       "4         Emily Brown\n",
       "5       Michael Clark\n",
       "6         Susan Davis\n",
       "7      David Martinez\n",
       "8        Linda Garcia\n",
       "9        Robert Lopez\n",
       "10        Alice Adams\n",
       "11          Bob Baker\n",
       "12    Charlie Chapman\n",
       "13      Diana Edwards\n",
       "14         Eve Foster\n",
       "15     Frank Gonzalez\n",
       "16       Grace Harris\n",
       "17      Hannah Ingram\n",
       "18      Irene Jackson\n",
       "19          Jack King\n",
       "Name: full_name, dtype: object"
      ]
     },
     "execution_count": 50,
     "metadata": {},
     "output_type": "execute_result"
    }
   ],
   "source": [
    "df['full_name']"
   ]
  },
  {
   "cell_type": "code",
   "execution_count": 51,
   "metadata": {},
   "outputs": [
    {
     "data": {
      "text/html": [
       "<div>\n",
       "<style scoped>\n",
       "    .dataframe tbody tr th:only-of-type {\n",
       "        vertical-align: middle;\n",
       "    }\n",
       "\n",
       "    .dataframe tbody tr th {\n",
       "        vertical-align: top;\n",
       "    }\n",
       "\n",
       "    .dataframe thead th {\n",
       "        text-align: right;\n",
       "    }\n",
       "</style>\n",
       "<table border=\"1\" class=\"dataframe\">\n",
       "  <thead>\n",
       "    <tr style=\"text-align: right;\">\n",
       "      <th></th>\n",
       "      <th>customer_id</th>\n",
       "      <th>first_name</th>\n",
       "      <th>last_name</th>\n",
       "      <th>email</th>\n",
       "      <th>age</th>\n",
       "      <th>signup_date</th>\n",
       "      <th>email_domain</th>\n",
       "      <th>email_name</th>\n",
       "      <th>full_name</th>\n",
       "    </tr>\n",
       "  </thead>\n",
       "  <tbody>\n",
       "    <tr>\n",
       "      <th>0</th>\n",
       "      <td>1</td>\n",
       "      <td>John</td>\n",
       "      <td>Doe</td>\n",
       "      <td>john.doe@example.com</td>\n",
       "      <td>28</td>\n",
       "      <td>2020-06-15</td>\n",
       "      <td>example.com</td>\n",
       "      <td>john.doe</td>\n",
       "      <td>John Doe</td>\n",
       "    </tr>\n",
       "    <tr>\n",
       "      <th>1</th>\n",
       "      <td>2</td>\n",
       "      <td>Jane</td>\n",
       "      <td>Smith</td>\n",
       "      <td>jane.smith@example.com</td>\n",
       "      <td>34</td>\n",
       "      <td>2021-01-22</td>\n",
       "      <td>example.com</td>\n",
       "      <td>jane.smith</td>\n",
       "      <td>Jane Smith</td>\n",
       "    </tr>\n",
       "    <tr>\n",
       "      <th>2</th>\n",
       "      <td>3</td>\n",
       "      <td>Mary</td>\n",
       "      <td>Johnson</td>\n",
       "      <td>mary.johnson@example.com</td>\n",
       "      <td>45</td>\n",
       "      <td>2022-03-18</td>\n",
       "      <td>example.com</td>\n",
       "      <td>mary.johnson</td>\n",
       "      <td>Mary Johnson</td>\n",
       "    </tr>\n",
       "    <tr>\n",
       "      <th>3</th>\n",
       "      <td>4</td>\n",
       "      <td>James</td>\n",
       "      <td>White</td>\n",
       "      <td>james.white@example.com</td>\n",
       "      <td>52</td>\n",
       "      <td>2019-11-12</td>\n",
       "      <td>example.com</td>\n",
       "      <td>james.white</td>\n",
       "      <td>James White</td>\n",
       "    </tr>\n",
       "    <tr>\n",
       "      <th>4</th>\n",
       "      <td>5</td>\n",
       "      <td>Emily</td>\n",
       "      <td>Brown</td>\n",
       "      <td>emily.brown@example.com</td>\n",
       "      <td>22</td>\n",
       "      <td>2023-02-03</td>\n",
       "      <td>example.com</td>\n",
       "      <td>emily.brown</td>\n",
       "      <td>Emily Brown</td>\n",
       "    </tr>\n",
       "    <tr>\n",
       "      <th>5</th>\n",
       "      <td>6</td>\n",
       "      <td>Michael</td>\n",
       "      <td>Clark</td>\n",
       "      <td>michael.clark@example.com</td>\n",
       "      <td>30</td>\n",
       "      <td>2022-07-29</td>\n",
       "      <td>example.com</td>\n",
       "      <td>michael.clark</td>\n",
       "      <td>Michael Clark</td>\n",
       "    </tr>\n",
       "    <tr>\n",
       "      <th>6</th>\n",
       "      <td>7</td>\n",
       "      <td>Susan</td>\n",
       "      <td>Davis</td>\n",
       "      <td>susan.davis@example.com</td>\n",
       "      <td>37</td>\n",
       "      <td>2021-09-12</td>\n",
       "      <td>example.com</td>\n",
       "      <td>susan.davis</td>\n",
       "      <td>Susan Davis</td>\n",
       "    </tr>\n",
       "    <tr>\n",
       "      <th>7</th>\n",
       "      <td>8</td>\n",
       "      <td>David</td>\n",
       "      <td>Martinez</td>\n",
       "      <td>david.martinez@example.com</td>\n",
       "      <td>41</td>\n",
       "      <td>2020-05-10</td>\n",
       "      <td>example.com</td>\n",
       "      <td>david.martinez</td>\n",
       "      <td>David Martinez</td>\n",
       "    </tr>\n",
       "    <tr>\n",
       "      <th>8</th>\n",
       "      <td>9</td>\n",
       "      <td>Linda</td>\n",
       "      <td>Garcia</td>\n",
       "      <td>linda.garcia@example.com</td>\n",
       "      <td>29</td>\n",
       "      <td>2021-11-21</td>\n",
       "      <td>example.com</td>\n",
       "      <td>linda.garcia</td>\n",
       "      <td>Linda Garcia</td>\n",
       "    </tr>\n",
       "    <tr>\n",
       "      <th>9</th>\n",
       "      <td>10</td>\n",
       "      <td>Robert</td>\n",
       "      <td>Lopez</td>\n",
       "      <td>robert.lopez@example.com</td>\n",
       "      <td>39</td>\n",
       "      <td>2019-08-30</td>\n",
       "      <td>example.com</td>\n",
       "      <td>robert.lopez</td>\n",
       "      <td>Robert Lopez</td>\n",
       "    </tr>\n",
       "    <tr>\n",
       "      <th>10</th>\n",
       "      <td>11</td>\n",
       "      <td>Alice</td>\n",
       "      <td>Adams</td>\n",
       "      <td>alice.adams@example.com</td>\n",
       "      <td>25</td>\n",
       "      <td>2020-02-15</td>\n",
       "      <td>example.com</td>\n",
       "      <td>alice.adams</td>\n",
       "      <td>Alice Adams</td>\n",
       "    </tr>\n",
       "    <tr>\n",
       "      <th>11</th>\n",
       "      <td>12</td>\n",
       "      <td>Bob</td>\n",
       "      <td>Baker</td>\n",
       "      <td>bob.baker@example.com</td>\n",
       "      <td>33</td>\n",
       "      <td>2021-08-06</td>\n",
       "      <td>example.com</td>\n",
       "      <td>bob.baker</td>\n",
       "      <td>Bob Baker</td>\n",
       "    </tr>\n",
       "    <tr>\n",
       "      <th>12</th>\n",
       "      <td>13</td>\n",
       "      <td>Charlie</td>\n",
       "      <td>Chapman</td>\n",
       "      <td>charlie.chapman@example.com</td>\n",
       "      <td>40</td>\n",
       "      <td>2022-09-25</td>\n",
       "      <td>example.com</td>\n",
       "      <td>charlie.chapman</td>\n",
       "      <td>Charlie Chapman</td>\n",
       "    </tr>\n",
       "    <tr>\n",
       "      <th>13</th>\n",
       "      <td>14</td>\n",
       "      <td>Diana</td>\n",
       "      <td>Edwards</td>\n",
       "      <td>diana.edwards@example.com</td>\n",
       "      <td>55</td>\n",
       "      <td>2021-10-19</td>\n",
       "      <td>example.com</td>\n",
       "      <td>diana.edwards</td>\n",
       "      <td>Diana Edwards</td>\n",
       "    </tr>\n",
       "    <tr>\n",
       "      <th>14</th>\n",
       "      <td>15</td>\n",
       "      <td>Eve</td>\n",
       "      <td>Foster</td>\n",
       "      <td>eve.foster@example.com</td>\n",
       "      <td>26</td>\n",
       "      <td>2023-01-11</td>\n",
       "      <td>example.com</td>\n",
       "      <td>eve.foster</td>\n",
       "      <td>Eve Foster</td>\n",
       "    </tr>\n",
       "    <tr>\n",
       "      <th>15</th>\n",
       "      <td>16</td>\n",
       "      <td>Frank</td>\n",
       "      <td>Gonzalez</td>\n",
       "      <td>frank.gonzalez@example.com</td>\n",
       "      <td>31</td>\n",
       "      <td>2020-12-02</td>\n",
       "      <td>example.com</td>\n",
       "      <td>frank.gonzalez</td>\n",
       "      <td>Frank Gonzalez</td>\n",
       "    </tr>\n",
       "    <tr>\n",
       "      <th>16</th>\n",
       "      <td>17</td>\n",
       "      <td>Grace</td>\n",
       "      <td>Harris</td>\n",
       "      <td>grace.harris@example.com</td>\n",
       "      <td>43</td>\n",
       "      <td>2021-07-03</td>\n",
       "      <td>example.com</td>\n",
       "      <td>grace.harris</td>\n",
       "      <td>Grace Harris</td>\n",
       "    </tr>\n",
       "    <tr>\n",
       "      <th>17</th>\n",
       "      <td>18</td>\n",
       "      <td>Hannah</td>\n",
       "      <td>Ingram</td>\n",
       "      <td>hannah.ingram@example.com</td>\n",
       "      <td>36</td>\n",
       "      <td>2022-05-19</td>\n",
       "      <td>example.com</td>\n",
       "      <td>hannah.ingram</td>\n",
       "      <td>Hannah Ingram</td>\n",
       "    </tr>\n",
       "    <tr>\n",
       "      <th>18</th>\n",
       "      <td>19</td>\n",
       "      <td>Irene</td>\n",
       "      <td>Jackson</td>\n",
       "      <td>irene.jackson@example.com</td>\n",
       "      <td>27</td>\n",
       "      <td>2023-03-15</td>\n",
       "      <td>example.com</td>\n",
       "      <td>irene.jackson</td>\n",
       "      <td>Irene Jackson</td>\n",
       "    </tr>\n",
       "    <tr>\n",
       "      <th>19</th>\n",
       "      <td>20</td>\n",
       "      <td>Jack</td>\n",
       "      <td>King</td>\n",
       "      <td>jack.king@example.com</td>\n",
       "      <td>50</td>\n",
       "      <td>2021-12-14</td>\n",
       "      <td>example.com</td>\n",
       "      <td>jack.king</td>\n",
       "      <td>Jack King</td>\n",
       "    </tr>\n",
       "  </tbody>\n",
       "</table>\n",
       "</div>"
      ],
      "text/plain": [
       "    customer_id first_name last_name                        email  age  \\\n",
       "0             1       John       Doe         john.doe@example.com   28   \n",
       "1             2       Jane     Smith       jane.smith@example.com   34   \n",
       "2             3       Mary   Johnson     mary.johnson@example.com   45   \n",
       "3             4      James     White      james.white@example.com   52   \n",
       "4             5      Emily     Brown      emily.brown@example.com   22   \n",
       "5             6    Michael     Clark    michael.clark@example.com   30   \n",
       "6             7      Susan     Davis      susan.davis@example.com   37   \n",
       "7             8      David  Martinez   david.martinez@example.com   41   \n",
       "8             9      Linda    Garcia     linda.garcia@example.com   29   \n",
       "9            10     Robert     Lopez     robert.lopez@example.com   39   \n",
       "10           11      Alice     Adams      alice.adams@example.com   25   \n",
       "11           12        Bob     Baker        bob.baker@example.com   33   \n",
       "12           13    Charlie   Chapman  charlie.chapman@example.com   40   \n",
       "13           14      Diana   Edwards    diana.edwards@example.com   55   \n",
       "14           15        Eve    Foster       eve.foster@example.com   26   \n",
       "15           16      Frank  Gonzalez   frank.gonzalez@example.com   31   \n",
       "16           17      Grace    Harris     grace.harris@example.com   43   \n",
       "17           18     Hannah    Ingram    hannah.ingram@example.com   36   \n",
       "18           19      Irene   Jackson    irene.jackson@example.com   27   \n",
       "19           20       Jack      King        jack.king@example.com   50   \n",
       "\n",
       "   signup_date email_domain       email_name        full_name  \n",
       "0   2020-06-15  example.com         john.doe         John Doe  \n",
       "1   2021-01-22  example.com       jane.smith       Jane Smith  \n",
       "2   2022-03-18  example.com     mary.johnson     Mary Johnson  \n",
       "3   2019-11-12  example.com      james.white      James White  \n",
       "4   2023-02-03  example.com      emily.brown      Emily Brown  \n",
       "5   2022-07-29  example.com    michael.clark    Michael Clark  \n",
       "6   2021-09-12  example.com      susan.davis      Susan Davis  \n",
       "7   2020-05-10  example.com   david.martinez   David Martinez  \n",
       "8   2021-11-21  example.com     linda.garcia     Linda Garcia  \n",
       "9   2019-08-30  example.com     robert.lopez     Robert Lopez  \n",
       "10  2020-02-15  example.com      alice.adams      Alice Adams  \n",
       "11  2021-08-06  example.com        bob.baker        Bob Baker  \n",
       "12  2022-09-25  example.com  charlie.chapman  Charlie Chapman  \n",
       "13  2021-10-19  example.com    diana.edwards    Diana Edwards  \n",
       "14  2023-01-11  example.com       eve.foster       Eve Foster  \n",
       "15  2020-12-02  example.com   frank.gonzalez   Frank Gonzalez  \n",
       "16  2021-07-03  example.com     grace.harris     Grace Harris  \n",
       "17  2022-05-19  example.com    hannah.ingram    Hannah Ingram  \n",
       "18  2023-03-15  example.com    irene.jackson    Irene Jackson  \n",
       "19  2021-12-14  example.com        jack.king        Jack King  "
      ]
     },
     "execution_count": 51,
     "metadata": {},
     "output_type": "execute_result"
    }
   ],
   "source": [
    "df"
   ]
  },
  {
   "cell_type": "code",
   "execution_count": 52,
   "metadata": {},
   "outputs": [],
   "source": [
    "new_file = 'customer_new_data.csv'\n",
    "df.to_csv(new_file, index=False)"
   ]
  },
  {
   "cell_type": "code",
   "execution_count": 28,
   "metadata": {},
   "outputs": [],
   "source": [
    "import psycopg2 as pg\n",
    "try:\n",
    "     connection=pg.connect( \n",
    "          host='localhost',\n",
    "          user='root',\n",
    "          database='post_demo',\n",
    "          password='pos_pass',\n",
    "          port=5432\n",
    "     )\n",
    "     my_cursor=connection.cursor()\n",
    "     connection.commit()\n",
    "except Exception as error: \n",
    "     print(error)"
   ]
  },
  {
   "cell_type": "code",
   "execution_count": 23,
   "metadata": {},
   "outputs": [],
   "source": [
    "create_table = '''\n",
    "CREATE TABLE customer_data (\n",
    "    customer_id INT PRIMARY KEY,\n",
    "    first_name VARCHAR(50),\n",
    "    last_name VARCHAR(50),\n",
    "    email VARCHAR(100),\n",
    "    age INT,\n",
    "    signup_date DATE,\n",
    "    email_domain VARCHAR(50),\n",
    "    email_name VARCHAR(50),\n",
    "    full_name VARCHAR(50)\n",
    ") '''"
   ]
  },
  {
   "cell_type": "code",
   "execution_count": 11,
   "metadata": {},
   "outputs": [],
   "source": [
    "my_cursor.execute(create_table)\n",
    "connection.commit()"
   ]
  },
  {
   "cell_type": "code",
   "execution_count": 29,
   "metadata": {},
   "outputs": [],
   "source": [
    "import csv\n",
    "csv_file = 'customer_new_data.csv'\n",
    "with open(csv_file, 'r') as f:\n",
    "    read_file = csv.reader(f)\n",
    "    next(f)\n",
    "    for row in read_file:\n",
    "        insert_query = \"\"\"\n",
    "        INSERT INTO customer_data (customer_id, first_name, last_name, email, age, \n",
    "        signup_date, email_domain, email_name, full_name)\n",
    "        VALUES (%s, %s, %s, %s, %s, %s, %s, %s, %s)\n",
    "        \"\"\"\n",
    "        my_cursor.execute(insert_query, row)\n",
    "connection.commit()"
   ]
  },
  {
   "cell_type": "code",
   "execution_count": null,
   "metadata": {},
   "outputs": [],
   "source": []
  },
  {
   "cell_type": "code",
   "execution_count": null,
   "metadata": {},
   "outputs": [],
   "source": []
  }
 ],
 "metadata": {
  "kernelspec": {
   "display_name": "Python 3",
   "language": "python",
   "name": "python3"
  },
  "language_info": {
   "codemirror_mode": {
    "name": "ipython",
    "version": 3
   },
   "file_extension": ".py",
   "mimetype": "text/x-python",
   "name": "python",
   "nbconvert_exporter": "python",
   "pygments_lexer": "ipython3",
   "version": "3.8.10"
  }
 },
 "nbformat": 4,
 "nbformat_minor": 2
}
